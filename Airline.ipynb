{
 "cells": [
  {
   "cell_type": "code",
   "execution_count": 1,
   "metadata": {},
   "outputs": [],
   "source": [
    "import sys\n",
    "import time\n",
    "import pandas as pd\n",
    "import numpy as np\n",
    "from scipy import stats\n",
    "import matplotlib.pyplot as plt\n",
    "from airlines_utils import second2date, date2second\n",
    "\n",
    "def flushPrint(variable):\n",
    "    sys.stdout.write('\\r')\n",
    "    sys.stdout.write(\"Processing {:.0f}%\".format(variable*100))\n",
    "    sys.stdout.flush()"
   ]
  },
  {
   "cell_type": "code",
   "execution_count": 2,
   "metadata": {},
   "outputs": [],
   "source": [
    "departures = pd.read_csv(\"departures_v2.csv\", sep=None, engine='python')"
   ]
  },
  {
   "cell_type": "markdown",
   "metadata": {},
   "source": [
    "注：构建网络用到的关键信息\n",
    "- flight_origin_name: 航班出发的机场\n",
    "- flight_departure_real: 实际出发实际（time in seconds since 1970-01-01 00:00， 下同）\n",
    "- flight_origin_code_iata: \n",
    "- flight_origin_code_icao: \n",
    "\n",
    "\n",
    "- flight_destination_name: 到达的机场\n",
    "- flight_arrival_read: 实际到达时间\n",
    "- flight_origin_code_icao: \n",
    "- flight_destination_code_icao: "
   ]
  },
  {
   "cell_type": "code",
   "execution_count": 3,
   "metadata": {},
   "outputs": [],
   "source": [
    "NetDataOri_departures = departures.loc[:, [\"flight_origin_name\", \"flight_destination_name\", \"flight_departure_real\", \n",
    "                                           \"flight_arrival_real\", \"flight_origin_code_iata\",\"flight_origin_code_icao\",\n",
    "                                           \"flight_destination_code_iata\", \"flight_destination_code_icao\"]]"
   ]
  },
  {
   "cell_type": "code",
   "execution_count": 4,
   "metadata": {},
   "outputs": [
    {
     "name": "stdout",
     "output_type": "stream",
     "text": [
      "删除后数据条数： 268871\n"
     ]
    }
   ],
   "source": [
    "# 删除出发日期在2019年之前的数据, 实际上这都是五月份的数据\n",
    "init_data = date2second(2019, 5, 1)\n",
    "NetData = NetDataOri_departures[NetDataOri_departures.flight_departure_real>=init_data]\n",
    "print(\"删除后数据条数：\",  len(NetData))"
   ]
  },
  {
   "cell_type": "code",
   "execution_count": 5,
   "metadata": {},
   "outputs": [],
   "source": [
    "time_early, time_late = min(list(NetData[\"flight_departure_real\"])), max(list(NetData[\"flight_departure_real\"]))"
   ]
  },
  {
   "cell_type": "code",
   "execution_count": 6,
   "metadata": {
    "scrolled": true
   },
   "outputs": [
    {
     "name": "stdout",
     "output_type": "stream",
     "text": [
      "数据的时间区间:2019-05-19 04:19:50 --- 2019-06-07 14:14:11\n"
     ]
    }
   ],
   "source": [
    "print(\"数据的时间区间:{} --- {}\".format(second2date(time_early), second2date(time_late)))"
   ]
  },
  {
   "cell_type": "code",
   "execution_count": 7,
   "metadata": {},
   "outputs": [],
   "source": [
    "origin_code_icao = list(NetData[\"flight_origin_code_icao\"])\n",
    "destination_code_icao = list(NetData[\"flight_destination_code_icao\"])"
   ]
  },
  {
   "cell_type": "markdown",
   "metadata": {},
   "source": [
    "# 机场 --> 国家"
   ]
  },
  {
   "cell_type": "code",
   "execution_count": 8,
   "metadata": {},
   "outputs": [],
   "source": [
    "airports_codes = pd.read_json(\"airports.json\")"
   ]
  },
  {
   "cell_type": "code",
   "execution_count": 9,
   "metadata": {},
   "outputs": [],
   "source": [
    "countries = airports_codes.loc[\"country\", :].tolist()\n",
    "icao_codes = airports_codes.loc[\"icao\", :].tolist()"
   ]
  },
  {
   "cell_type": "code",
   "execution_count": 10,
   "metadata": {},
   "outputs": [],
   "source": [
    "codes_cty_map = {code: cty for cty, code in zip(countries, icao_codes)}"
   ]
  },
  {
   "cell_type": "code",
   "execution_count": 11,
   "metadata": {},
   "outputs": [],
   "source": [
    "OOD = []\n",
    "origin = []\n",
    "for code in origin_code_icao:\n",
    "    cty = codes_cty_map.get(code, None)\n",
    "    if cty == None:\n",
    "        OOD.append(code)\n",
    "    origin.append(cty)\n",
    "\n",
    "destination = []\n",
    "for code in destination_code_icao:\n",
    "    cty = codes_cty_map.get(code, None)\n",
    "    if cty == None:\n",
    "        OOD.append(code)\n",
    "    destination.append(cty)"
   ]
  },
  {
   "cell_type": "code",
   "execution_count": 12,
   "metadata": {},
   "outputs": [
    {
     "name": "stdout",
     "output_type": "stream",
     "text": [
      "没有对应国家的机场数：8\n",
      "ICAO codes: 1579 {'LTFM', 'GQNO', 'YBSU', 'LNMC', 'EPSY', 'OPIS', 'TVSA', 'DTNH'}\n"
     ]
    }
   ],
   "source": [
    "print(\"没有对应国家的机场数：{}\".format(len(set(OOD))))\n",
    "print(\"ICAO codes:\", len(OOD), set(OOD))"
   ]
  },
  {
   "cell_type": "code",
   "execution_count": 13,
   "metadata": {},
   "outputs": [],
   "source": [
    "all_cty = list(set(origin + destination))\n",
    "all_cty.remove(None)\n",
    "CTY_NUM = len(all_cty)"
   ]
  },
  {
   "cell_type": "code",
   "execution_count": 14,
   "metadata": {},
   "outputs": [],
   "source": [
    "cty_node_map = {cty: i for i, cty in enumerate(all_cty)}\n",
    "node_cty_map = {i: cty for i, cty in enumerate(all_cty)}"
   ]
  },
  {
   "cell_type": "markdown",
   "metadata": {},
   "source": [
    "# 建立流量矩阵"
   ]
  },
  {
   "cell_type": "code",
   "execution_count": 15,
   "metadata": {},
   "outputs": [],
   "source": [
    "cty_cty_mat = np.zeros([CTY_NUM, CTY_NUM])"
   ]
  },
  {
   "cell_type": "code",
   "execution_count": 16,
   "metadata": {},
   "outputs": [],
   "source": [
    "for ori, des in zip(origin, destination):\n",
    "    if ori not in all_cty or des not in all_cty:\n",
    "        continue\n",
    "    else:\n",
    "        ori_node = cty_node_map[ori]\n",
    "        des_node = cty_node_map[des]\n",
    "        cty_cty_mat[ori_node, des_node] += 1"
   ]
  },
  {
   "cell_type": "markdown",
   "metadata": {},
   "source": [
    "# 归一化流量"
   ]
  },
  {
   "cell_type": "code",
   "execution_count": 17,
   "metadata": {},
   "outputs": [],
   "source": [
    "flow_sum = np.sum(cty_cty_mat, axis=1)\n",
    "\n",
    "flow = []\n",
    "for row, summa in zip(cty_cty_mat, flow_sum):\n",
    "    assert row.sum() == summa\n",
    "    if summa == 0:\n",
    "        flow.append(np.array([0] * CTY_NUM))\n",
    "    else:\n",
    "        flow.append(row / summa)\n",
    "        \n",
    "flow = np.array(flow)"
   ]
  },
  {
   "cell_type": "markdown",
   "metadata": {},
   "source": [
    "# 计算有效距离"
   ]
  },
  {
   "cell_type": "code",
   "execution_count": 18,
   "metadata": {},
   "outputs": [],
   "source": [
    "def my_matrix_production(matrix, matrix1):\n",
    "    #特殊的矩阵乘积，将加法转换为取大\n",
    "    assert matrix.shape == matrix1.shape\n",
    "    sz = matrix.shape[0]\n",
    "    output = np.zeros_like(matrix)\n",
    "    \n",
    "    for i in range(sz):\n",
    "        row = matrix[i, :].reshape(sz, -1)\n",
    "        output[i, :] = np.amax(row * matrix1, axis=0)\n",
    "    return output\n",
    "\n",
    "\n",
    "def eff_distance(prob):\n",
    "    #输入迁移概率矩阵，计算有效距离\n",
    "    sz = prob.shape[0]\n",
    "    prod = prob\n",
    "    distance = np.ones_like(prob) - np.log(prod)\n",
    "    \n",
    "    for i in range(1, sz-1):\n",
    "        #flushPrint(i / sz)\n",
    "        prod = my_matrix_production(prod, prob)\n",
    "        dist = i + 1 - np.log(prod)\n",
    "        distance = np.minimum(distance, dist)\n",
    "    return distance"
   ]
  },
  {
   "cell_type": "code",
   "execution_count": 19,
   "metadata": {
    "scrolled": true
   },
   "outputs": [
    {
     "name": "stderr",
     "output_type": "stream",
     "text": [
      "/Users/philip/anaconda3/lib/python3.7/site-packages/ipykernel_launcher.py:17: RuntimeWarning: divide by zero encountered in log\n",
      "/Users/philip/anaconda3/lib/python3.7/site-packages/ipykernel_launcher.py:22: RuntimeWarning: divide by zero encountered in log\n"
     ]
    }
   ],
   "source": [
    "dist = eff_distance(flow)"
   ]
  },
  {
   "cell_type": "markdown",
   "metadata": {},
   "source": [
    "# 与中国的有效距离排序"
   ]
  },
  {
   "cell_type": "code",
   "execution_count": 20,
   "metadata": {
    "scrolled": true
   },
   "outputs": [],
   "source": [
    "To_China_dist = np.sort(dist[cty_node_map[\"CN\"]])\n",
    "To_China_name = [node_cty_map[node] for node in np.argsort(dist[cty_node_map[\"CN\"]])]"
   ]
  },
  {
   "cell_type": "code",
   "execution_count": 21,
   "metadata": {},
   "outputs": [],
   "source": [
    "ISO2 = pd.read_json(\"2_codes_country.json\")\n",
    "Iso2Name = {code:name for code, name in zip(ISO2.loc[\"iso2\", :].tolist(), ISO2.loc[\"name\", :].tolist())}"
   ]
  },
  {
   "cell_type": "code",
   "execution_count": 22,
   "metadata": {
    "scrolled": true
   },
   "outputs": [
    {
     "name": "stdout",
     "output_type": "stream",
     "text": [
      "         国家          有效距离\n",
      "   United States     | 1.88\n",
      "      Germany        | 2.80\n",
      "   United Kingdom    | 2.89\n",
      "       France        | 2.92\n",
      "     Australia       | 3.12\n",
      "       Spain         | 5.70\n",
      "       Greece        | 6.41\n",
      "       Italy         | 6.66\n",
      "       Canada        | 6.71\n",
      "       Mexico        | 7.07\n",
      "      Ireland        | 7.23\n",
      "    Netherlands      | 7.37\n",
      "    New Zealand      | 7.46\n",
      "      Portugal       | 7.55\n",
      "    Switzerland      | 7.66\n",
      "      Austria        | 7.66\n",
      "       Poland        | 7.69\n",
      "      Morocco        | 7.92\n",
      " Dominican Republic  | 7.92\n",
      "       China         | 8.12\n",
      "      Algeria        | 8.18\n",
      "      Denmark        | 8.21\n",
      "      Colombia       | 8.27\n",
      " Russian Federation  | 8.28\n",
      "       Turkey        | 8.32\n",
      "      Romania        | 8.38\n",
      "       Sweden        | 8.39\n",
      "        Cuba         | 8.46\n",
      "      Croatia        | 8.48\n",
      "      Bahamas        | 8.49\n",
      "      Tunisia        | 8.52\n",
      "       Norway        | 8.55\n",
      "       Japan         | 8.57\n",
      "    Puerto Rico      | 8.60\n",
      "      Hungary        | 8.66\n",
      "      Belgium        | 8.75\n",
      "       Panama        | 8.76\n",
      "     Singapore       | 8.76\n",
      "United Arab Emirates | 8.81\n",
      "   Czech Republic    | 8.81\n",
      "     Hong Kong       | 8.81\n",
      "       Brazil        | 8.82\n",
      "       Israel        | 8.86\n",
      "       Cyprus        | 8.87\n",
      "    El Salvador      | 8.89\n",
      "       India         | 8.92\n",
      "      Jamaica        | 8.98\n",
      "     Indonesia       | 9.01\n",
      " Korea, Republic Of  | 9.02\n",
      "      Bulgaria       | 9.13\n",
      "      Ukraine        | 9.17\n",
      "       Egypt         | 9.18\n",
      "        Fiji         | 9.18\n",
      "      Finland        | 9.24\n",
      "       Jersey        | 9.25\n",
      "Taiwan, Province Of China | 9.27\n",
      "     Luxembourg      | 9.28\n",
      "       Malta         | 9.30\n",
      "     Costa Rica      | 9.32\n",
      "       Qatar         | 9.42\n",
      "     Guatemala       | 9.42\n",
      "        Peru         | 9.43\n",
      "      Guernsey       | 9.50\n",
      "      Thailand       | 9.51\n",
      "     Lithuania       | 9.52\n",
      "    South Africa     | 9.58\n",
      "    Philippines      | 9.59\n",
      "Trinidad And Tobago  | 9.59\n",
      "    Isle Of Man      | 9.60\n",
      "     Argentina       | 9.61\n",
      "      Malaysia       | 9.61\n",
      "     Guadeloupe      | 9.64\n",
      "    Saudi Arabia     | 9.65\n",
      "   Cayman Islands    | 9.69\n",
      "       Serbia        | 9.71\n",
      "      Reunion        | 9.72\n",
      "       Latvia        | 9.73\n",
      "       Aruba         | 9.76\n",
      "      Iceland        | 9.76\n",
      "      Estonia        | 9.78\n",
      "     Martinique      | 9.83\n",
      "     Kazakhstan      | 9.85\n",
      "      Ecuador        | 9.85\n",
      "      Lebanon        | 9.87\n",
      "      Honduras       | 9.89\n",
      "Turks And Caicos Islands | 9.91\n",
      "      Bermuda        | 9.92\n",
      "      Slovenia       | 9.92\n",
      "       Haiti         | 9.96\n",
      "      Albania        | 10.00\n",
      "Virgin Islands (US)  | 10.02\n",
      "       Chile         | 10.04\n",
      "     Gibraltar       | 10.10\n",
      "      Slovakia       | 10.16\n",
      "       Jordan        | 10.18\n",
      "      Barbados       | 10.19\n",
      "      Belarus        | 10.22\n",
      "      Ethiopia       | 10.25\n",
      "      Viet Nam       | 10.28\n",
      "      Moldova        | 10.29\n",
      "      Nigeria        | 10.41\n",
      "      Senegal        | 10.45\n",
      "       Kuwait        | 10.45\n",
      "Iran, Islamic Republic Of | 10.45\n",
      "    Sint Maarten     | 10.48\n",
      "     Nicaragua       | 10.49\n",
      "      Bahrain        | 10.50\n",
      "       Guyana        | 10.53\n",
      "   Cote d'Ivoire     | 10.54\n",
      "      Namibia        | 10.59\n",
      "Antigua And Barbuda  | 10.63\n",
      "   French Guiana     | 10.68\n",
      "      Vanuatu        | 10.71\n",
      "   New Caledonia     | 10.71\n",
      "  French Polynesia   | 10.72\n",
      "    Saint Lucia      | 10.79\n",
      "      Curacao        | 10.79\n",
      "       Kenya         | 10.81\n",
      "KS\n",
      "       Belize        | 10.87\n",
      "        Oman         | 10.87\n",
      "     Mauritius       | 10.90\n",
      "        Mali         | 10.95\n",
      "      Cameroon       | 11.00\n",
      "     Azerbaijan      | 11.02\n",
      "     Montenegro      | 11.05\n",
      "      Grenada        | 11.08\n",
      "       Gabon         | 11.17\n",
      " Republic Of Congo   | 11.23\n",
      "        Iraq         | 11.28\n",
      "     Madagascar      | 11.30\n",
      "Bolivia, Plurinational State Of | 11.30\n",
      "       Samoa         | 11.34\n",
      "       Niger         | 11.38\n",
      "       Ghana         | 11.47\n",
      "     Sri Lanka       | 11.47\n",
      "       Angola        | 11.50\n",
      " Brunei Darussalam   | 11.53\n",
      "Saint Kitts And Nevis | 11.54\n",
      "      Georgia        | 11.54\n",
      "     Cape Verde      | 11.54\n",
      "   Norfolk Island    | 11.63\n",
      "      Armenia        | 11.64\n",
      "Venezuela, Bolivarian Republic Of | 11.75\n",
      "       Benin         | 11.75\n",
      "     Uzbekistan      | 11.79\n",
      "       Tonga         | 11.81\n",
      "      Mayotte        | 11.86\n",
      "Macedonia, The Former Yugoslav Republic Of | 11.91\n",
      "      Uruguay        | 11.92\n",
      "        Togo         | 12.00\n",
      "    Sierra Leone     | 12.00\n",
      "      Pakistan       | 12.00\n",
      "  Papua New Guinea   | 12.03\n",
      "Bonaire, Saint Eustatius And Saba | 12.09\n",
      "     Bangladesh      | 12.11\n",
      "Democratic Republic Of Congo | 12.15\n",
      "    Burkina Faso     | 12.33\n",
      "        Chad         | 12.33\n",
      "       Gambia        | 12.49\n",
      "      Djibouti       | 12.56\n",
      "     Seychelles      | 12.70\n",
      "Central African Republic | 12.84\n",
      "     Tajikistan      | 12.89\n",
      "      Paraguay       | 13.10\n",
      "   Western Sahara    | 13.25\n",
      "    Cook Islands     | 13.42\n",
      "    Turkmenistan     | 13.58\n",
      "Tanzania, United Republic Of | inf\n",
      "       Guinea        | inf\n",
      "      Suriname       | inf\n"
     ]
    }
   ],
   "source": [
    "print(\"{:^20} {}\".format(\"国家\", \"有效距离\"))\n",
    "for d, n in zip(To_China_dist, To_China_name):\n",
    "    try:\n",
    "        print(\"{:^20} | {:.2f}\".format(Iso2Name[n], d))\n",
    "    except:\n",
    "        print(n)"
   ]
  },
  {
   "cell_type": "markdown",
   "metadata": {},
   "source": [
    "# 海外首感"
   ]
  },
  {
   "cell_type": "code",
   "execution_count": 23,
   "metadata": {},
   "outputs": [],
   "source": [
    "outsea = pd.read_excel(\"outsea.xlsx\")"
   ]
  },
  {
   "cell_type": "code",
   "execution_count": 24,
   "metadata": {},
   "outputs": [],
   "source": [
    "country_date = {c:d for c, d in zip(outsea.Name.tolist(), outsea.Date.tolist())}\n",
    "country_dist = {c:d for c, d in zip([Iso2Name.get(n, None) for n in To_China_name], To_China_dist)}"
   ]
  },
  {
   "cell_type": "code",
   "execution_count": 26,
   "metadata": {},
   "outputs": [
    {
     "data": {
      "image/png": "[encoded data removed]",
      "text/plain": [
       "<Figure size 648x504 with 1 Axes>"
      ]
     },
     "metadata": {
      "needs_background": "light"
     },
     "output_type": "display_data"
    }
   ],
   "source": [
    "xx, yy, name = [], [], []\n",
    "for c in country_date.keys():\n",
    "    try:\n",
    "        yy.append(country_dist[c])\n",
    "        xx.append(country_date[c])\n",
    "        name.append(c)\n",
    "    except:\n",
    "        continue\n",
    "        \n",
    "fig, ax = plt.subplots(figsize=(9, 7))\n",
    "ax.plot(xx, yy, \"o\")\n",
    "\n",
    "for x, y, name in zip(xx, yy, name):\n",
    "    t = ax.text(x-0.5, y+0.2, name)\n",
    "\n",
    "ax.set_xlabel(\"Days after 2020/01/01\")\n",
    "ax.set_ylabel(\"Effective Distance\")\n",
    "ax.set_title(\"First Case Day VS. Distance to China\")\n",
    "plt.savefig(\"re.pdf\")\n",
    "\n",
    "plt.show()"
   ]
  },
  {
   "cell_type": "code",
   "execution_count": null,
   "metadata": {},
   "outputs": [],
   "source": []
  }
 ],
 "metadata": {
  "kernelspec": {
   "display_name": "Python 3",
   "language": "python",
   "name": "python3"
  },
  "language_info": {
   "codemirror_mode": {
    "name": "ipython",
    "version": 3
   },
   "file_extension": ".py",
   "mimetype": "text/x-python",
   "name": "python",
   "nbconvert_exporter": "python",
   "pygments_lexer": "ipython3",
   "version": "3.7.0"
  }
 },
 "nbformat": 4,
 "nbformat_minor": 2
}
